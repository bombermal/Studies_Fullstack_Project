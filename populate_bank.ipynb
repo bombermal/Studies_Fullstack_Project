{
 "cells": [
  {
   "cell_type": "code",
   "execution_count": 15,
   "metadata": {},
   "outputs": [],
   "source": [
    "# Import random\n",
    "import random\n",
    "import requests\n",
    "\n",
    "from string import Template"
   ]
  },
  {
   "cell_type": "code",
   "execution_count": 6,
   "metadata": {},
   "outputs": [],
   "source": [
    "clients = [{\n",
    "    \"name\": \"Peter\",\n",
    "    \"last_name\": \"Parker\",\n",
    "    \"email\": \"awayfromhome@hero.com\"\n",
    "}, {\n",
    "    \"name\": \"Miles\",\n",
    "    \"last_name\": \"Morales\",\n",
    "    \"email\": \"anotherspider@hero.com\"\n",
    "}, {\n",
    "    \"name\": \"Gwen\",\n",
    "    \"last_name\": \"Stacy\",\n",
    "    \"email\": \"bestone@hero.com\"\n",
    "}]"
   ]
  },
  {
   "cell_type": "code",
   "execution_count": 7,
   "metadata": {},
   "outputs": [],
   "source": [
    "ip = \"192.168.1.64:8000\"\n",
    "url = f\"http://{ip}/api/clients\"\n",
    "get_client = requests.get(url)"
   ]
  },
  {
   "cell_type": "code",
   "execution_count": 20,
   "metadata": {},
   "outputs": [
    {
     "name": "stdout",
     "output_type": "stream",
     "text": [
      "{\"@id\":\"\\/api\\/errors\\/415\",\"@type\":\"hydra:Error\",\"title\":\"An error occurred\",\"detail\":\"The content-type \\u0022application\\/x-www-form-urlencoded\\u0022 is not supported. Supported MIME types are \\u0022application\\/ld+json\\u0022.\",\"status\":415,\"type\":\"\\/errors\\/415\",\"trace\":[{\"file\":\"\\/home\\/ivan\\/Projects\\/Studies_Fullstack_Project\\/symfony-back\\/vendor\\/api-platform\\/core\\/src\\/State\\/Provider\\/ContentNegotiationProvider.php\",\"line\":48,\"function\":\"getInputFormat\",\"class\":\"ApiPlatform\\\\State\\\\Provider\\\\ContentNegotiationProvider\",\"type\":\"-\\u003E\"},{\"file\":\"\\/home\\/ivan\\/Projects\\/Studies_Fullstack_Project\\/symfony-back\\/vendor\\/api-platform\\/core\\/src\\/Symfony\\/Controller\\/MainController.php\",\"line\":82,\"function\":\"provide\",\"class\":\"ApiPlatform\\\\State\\\\Provider\\\\ContentNegotiationProvider\",\"type\":\"-\\u003E\"},{\"file\":\"\\/home\\/ivan\\/Projects\\/Studies_Fullstack_Project\\/symfony-back\\/vendor\\/symfony\\/http-kernel\\/HttpKernel.php\",\"line\":178,\"function\":\"__invoke\",\"class\":\"ApiPlatform\\\\Symfony\\\\Controller\\\\MainController\",\"type\":\"-\\u003E\"},{\"file\":\"\\/home\\/ivan\\/Projects\\/Studies_Fullstack_Project\\/symfony-back\\/vendor\\/symfony\\/http-kernel\\/HttpKernel.php\",\"line\":76,\"function\":\"handleRaw\",\"class\":\"Symfony\\\\Component\\\\HttpKernel\\\\HttpKernel\",\"type\":\"-\\u003E\"},{\"file\":\"\\/home\\/ivan\\/Projects\\/Studies_Fullstack_Project\\/symfony-back\\/vendor\\/symfony\\/http-kernel\\/Kernel.php\",\"line\":185,\"function\":\"handle\",\"class\":\"Symfony\\\\Component\\\\HttpKernel\\\\HttpKernel\",\"type\":\"-\\u003E\"},{\"file\":\"\\/home\\/ivan\\/Projects\\/Studies_Fullstack_Project\\/symfony-back\\/vendor\\/symfony\\/runtime\\/Runner\\/Symfony\\/HttpKernelRunner.php\",\"line\":35,\"function\":\"handle\",\"class\":\"Symfony\\\\Component\\\\HttpKernel\\\\Kernel\",\"type\":\"-\\u003E\"},{\"file\":\"\\/home\\/ivan\\/Projects\\/Studies_Fullstack_Project\\/symfony-back\\/vendor\\/autoload_runtime.php\",\"line\":29,\"function\":\"run\",\"class\":\"Symfony\\\\Component\\\\Runtime\\\\Runner\\\\Symfony\\\\HttpKernelRunner\",\"type\":\"-\\u003E\"},{\"file\":\"\\/home\\/ivan\\/Projects\\/Studies_Fullstack_Project\\/symfony-back\\/public\\/index.php\",\"line\":5,\"function\":\"require_once\"}],\"hydra:title\":\"An error occurred\",\"hydra:description\":\"The content-type \\u0022application\\/x-www-form-urlencoded\\u0022 is not supported. Supported MIME types are \\u0022application\\/ld+json\\u0022.\"}\n",
      "{\"@id\":\"\\/api\\/errors\\/415\",\"@type\":\"hydra:Error\",\"title\":\"An error occurred\",\"detail\":\"The content-type \\u0022application\\/x-www-form-urlencoded\\u0022 is not supported. Supported MIME types are \\u0022application\\/ld+json\\u0022.\",\"status\":415,\"type\":\"\\/errors\\/415\",\"trace\":[{\"file\":\"\\/home\\/ivan\\/Projects\\/Studies_Fullstack_Project\\/symfony-back\\/vendor\\/api-platform\\/core\\/src\\/State\\/Provider\\/ContentNegotiationProvider.php\",\"line\":48,\"function\":\"getInputFormat\",\"class\":\"ApiPlatform\\\\State\\\\Provider\\\\ContentNegotiationProvider\",\"type\":\"-\\u003E\"},{\"file\":\"\\/home\\/ivan\\/Projects\\/Studies_Fullstack_Project\\/symfony-back\\/vendor\\/api-platform\\/core\\/src\\/Symfony\\/Controller\\/MainController.php\",\"line\":82,\"function\":\"provide\",\"class\":\"ApiPlatform\\\\State\\\\Provider\\\\ContentNegotiationProvider\",\"type\":\"-\\u003E\"},{\"file\":\"\\/home\\/ivan\\/Projects\\/Studies_Fullstack_Project\\/symfony-back\\/vendor\\/symfony\\/http-kernel\\/HttpKernel.php\",\"line\":178,\"function\":\"__invoke\",\"class\":\"ApiPlatform\\\\Symfony\\\\Controller\\\\MainController\",\"type\":\"-\\u003E\"},{\"file\":\"\\/home\\/ivan\\/Projects\\/Studies_Fullstack_Project\\/symfony-back\\/vendor\\/symfony\\/http-kernel\\/HttpKernel.php\",\"line\":76,\"function\":\"handleRaw\",\"class\":\"Symfony\\\\Component\\\\HttpKernel\\\\HttpKernel\",\"type\":\"-\\u003E\"},{\"file\":\"\\/home\\/ivan\\/Projects\\/Studies_Fullstack_Project\\/symfony-back\\/vendor\\/symfony\\/http-kernel\\/Kernel.php\",\"line\":185,\"function\":\"handle\",\"class\":\"Symfony\\\\Component\\\\HttpKernel\\\\HttpKernel\",\"type\":\"-\\u003E\"},{\"file\":\"\\/home\\/ivan\\/Projects\\/Studies_Fullstack_Project\\/symfony-back\\/vendor\\/symfony\\/runtime\\/Runner\\/Symfony\\/HttpKernelRunner.php\",\"line\":35,\"function\":\"handle\",\"class\":\"Symfony\\\\Component\\\\HttpKernel\\\\Kernel\",\"type\":\"-\\u003E\"},{\"file\":\"\\/home\\/ivan\\/Projects\\/Studies_Fullstack_Project\\/symfony-back\\/vendor\\/autoload_runtime.php\",\"line\":29,\"function\":\"run\",\"class\":\"Symfony\\\\Component\\\\Runtime\\\\Runner\\\\Symfony\\\\HttpKernelRunner\",\"type\":\"-\\u003E\"},{\"file\":\"\\/home\\/ivan\\/Projects\\/Studies_Fullstack_Project\\/symfony-back\\/public\\/index.php\",\"line\":5,\"function\":\"require_once\"}],\"hydra:title\":\"An error occurred\",\"hydra:description\":\"The content-type \\u0022application\\/x-www-form-urlencoded\\u0022 is not supported. Supported MIME types are \\u0022application\\/ld+json\\u0022.\"}\n",
      "{\"@id\":\"\\/api\\/errors\\/415\",\"@type\":\"hydra:Error\",\"title\":\"An error occurred\",\"detail\":\"The content-type \\u0022application\\/x-www-form-urlencoded\\u0022 is not supported. Supported MIME types are \\u0022application\\/ld+json\\u0022.\",\"status\":415,\"type\":\"\\/errors\\/415\",\"trace\":[{\"file\":\"\\/home\\/ivan\\/Projects\\/Studies_Fullstack_Project\\/symfony-back\\/vendor\\/api-platform\\/core\\/src\\/State\\/Provider\\/ContentNegotiationProvider.php\",\"line\":48,\"function\":\"getInputFormat\",\"class\":\"ApiPlatform\\\\State\\\\Provider\\\\ContentNegotiationProvider\",\"type\":\"-\\u003E\"},{\"file\":\"\\/home\\/ivan\\/Projects\\/Studies_Fullstack_Project\\/symfony-back\\/vendor\\/api-platform\\/core\\/src\\/Symfony\\/Controller\\/MainController.php\",\"line\":82,\"function\":\"provide\",\"class\":\"ApiPlatform\\\\State\\\\Provider\\\\ContentNegotiationProvider\",\"type\":\"-\\u003E\"},{\"file\":\"\\/home\\/ivan\\/Projects\\/Studies_Fullstack_Project\\/symfony-back\\/vendor\\/symfony\\/http-kernel\\/HttpKernel.php\",\"line\":178,\"function\":\"__invoke\",\"class\":\"ApiPlatform\\\\Symfony\\\\Controller\\\\MainController\",\"type\":\"-\\u003E\"},{\"file\":\"\\/home\\/ivan\\/Projects\\/Studies_Fullstack_Project\\/symfony-back\\/vendor\\/symfony\\/http-kernel\\/HttpKernel.php\",\"line\":76,\"function\":\"handleRaw\",\"class\":\"Symfony\\\\Component\\\\HttpKernel\\\\HttpKernel\",\"type\":\"-\\u003E\"},{\"file\":\"\\/home\\/ivan\\/Projects\\/Studies_Fullstack_Project\\/symfony-back\\/vendor\\/symfony\\/http-kernel\\/Kernel.php\",\"line\":185,\"function\":\"handle\",\"class\":\"Symfony\\\\Component\\\\HttpKernel\\\\HttpKernel\",\"type\":\"-\\u003E\"},{\"file\":\"\\/home\\/ivan\\/Projects\\/Studies_Fullstack_Project\\/symfony-back\\/vendor\\/symfony\\/runtime\\/Runner\\/Symfony\\/HttpKernelRunner.php\",\"line\":35,\"function\":\"handle\",\"class\":\"Symfony\\\\Component\\\\HttpKernel\\\\Kernel\",\"type\":\"-\\u003E\"},{\"file\":\"\\/home\\/ivan\\/Projects\\/Studies_Fullstack_Project\\/symfony-back\\/vendor\\/autoload_runtime.php\",\"line\":29,\"function\":\"run\",\"class\":\"Symfony\\\\Component\\\\Runtime\\\\Runner\\\\Symfony\\\\HttpKernelRunner\",\"type\":\"-\\u003E\"},{\"file\":\"\\/home\\/ivan\\/Projects\\/Studies_Fullstack_Project\\/symfony-back\\/public\\/index.php\",\"line\":5,\"function\":\"require_once\"}],\"hydra:title\":\"An error occurred\",\"hydra:description\":\"The content-type \\u0022application\\/x-www-form-urlencoded\\u0022 is not supported. Supported MIME types are \\u0022application\\/ld+json\\u0022.\"}\n"
     ]
    }
   ],
   "source": [
    "# Createa a string template for client\n",
    "client_template = Template(\"'name': $name, 'last_name': $last_name, 'email': $email, 'accounts': $accounts}\")\n",
    "\n",
    "# client_template.safe_substitute({'id':1})\n",
    "\n",
    "# Post clients\n",
    "for client in clients:\n",
    "    post_client = requests.post(url, data=client)\n",
    "    print(post_client.text)"
   ]
  },
  {
   "cell_type": "code",
   "execution_count": null,
   "metadata": {},
   "outputs": [],
   "source": []
  }
 ],
 "metadata": {
  "kernelspec": {
   "display_name": "Python 3",
   "language": "python",
   "name": "python3"
  },
  "language_info": {
   "codemirror_mode": {
    "name": "ipython",
    "version": 3
   },
   "file_extension": ".py",
   "mimetype": "text/x-python",
   "name": "python",
   "nbconvert_exporter": "python",
   "pygments_lexer": "ipython3",
   "version": "3.10.12"
  }
 },
 "nbformat": 4,
 "nbformat_minor": 2
}
