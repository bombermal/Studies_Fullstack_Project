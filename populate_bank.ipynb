{
 "cells": [
  {
   "cell_type": "code",
   "execution_count": 97,
   "metadata": {},
   "outputs": [],
   "source": [
    "# Import random\n",
    "import random\n",
    "import requests\n",
    "import pandas as pd\n",
    "import numpy as np\n",
    "\n",
    "from string import Template"
   ]
  },
  {
   "cell_type": "code",
   "execution_count": 123,
   "metadata": {},
   "outputs": [],
   "source": [
    "clients = [{\n",
    "    \"id\": 1,\n",
    "    \"name\": \"Peter\",\n",
    "    \"last_name\": \"Parker\",\n",
    "    \"email\": \"awayfromhome@hero.com\"\n",
    "}, {\n",
    "    \"id\": 2,\n",
    "    \"name\": \"Miles\",\n",
    "    \"last_name\": \"Morales\",\n",
    "    \"email\": \"anotherspider@hero.com\"\n",
    "}, {\n",
    "    \"id\": 3,\n",
    "    \"name\": \"Gwen\",\n",
    "    \"last_name\": \"Stacy\",\n",
    "    \"email\": \"bestone@hero.com\"\n",
    "}]\n",
    "\n",
    "accounts = [{\n",
    "    \"id\": 1,\n",
    "    \"client_id\": 1,\n",
    "    \"account_number\": 123,\n",
    "    \"balance\": 1000\n",
    "}, \n",
    "{\n",
    "    \"id\": 2,\n",
    "    \"client_id\": 2,\n",
    "    \"account_number\": 456,\n",
    "    \"balance\": 15000\n",
    "},\n",
    "{\n",
    "    \"id\": 3,\n",
    "    \"client_id\": 2,\n",
    "    \"account_number\": 258,\n",
    "    \"balance\": 150000\n",
    "}, \n",
    "{\n",
    "    \"id\": 4,\n",
    "    \"client_id\": 3,\n",
    "    \"account_number\": 789,\n",
    "    \"balance\": 3000\n",
    "},\n",
    "{\n",
    "    \"id\": 5,\n",
    "    \"client_id\": 3,\n",
    "    \"account_number\": 741,\n",
    "    \"balance\": 10\n",
    "},\n",
    "{\n",
    "    \"id\": 6,\n",
    "    \"client_id\": 3,\n",
    "    \"account_number\": 748,\n",
    "    \"balance\": -10\n",
    "}]\n",
    "\n",
    "template_transaction = Template(\n",
    "    \"\"\"id: $id, account_id: $account_id, type: '$type', status: '$status', amount: $amount, created_at: convertToString(new Date($created_at), locale)\"\"\")"
   ]
  },
  {
   "cell_type": "code",
   "execution_count": 105,
   "metadata": {},
   "outputs": [],
   "source": [
    "ip = \"192.168.1.64:8000\"\n",
    "url = f\"http://{ip}/api/clients\"\n",
    "# get_client = requests.get(url)"
   ]
  },
  {
   "cell_type": "code",
   "execution_count": 106,
   "metadata": {},
   "outputs": [
    {
     "name": "stdout",
     "output_type": "stream",
     "text": [
      "id: 1, account_id: 1, type: 'deposit', status: 'completed', amount: 100, created_at: new Date(2021-09-01)\n"
     ]
    }
   ],
   "source": [
    "# Createa a string template for client\n",
    "client_template = Template(\"'name': $name, 'last_name': $last_name, 'email': $email, 'accounts': $accounts}\")\n",
    "\n",
    "# client_template.safe_substitute({'id':1})\n",
    "print(template_transaction.safe_substitute({'id': 1, 'account_id': 1, 'type': 'deposit', 'status': 'completed', 'amount': 100, 'created_at': '2021-09-01'}))"
   ]
  },
  {
   "cell_type": "code",
   "execution_count": 101,
   "metadata": {},
   "outputs": [
    {
     "name": "stdout",
     "output_type": "stream",
     "text": [
      "{value: '1', viewValue: 'Peter Parker'},\n",
      "{value: '2', viewValue: 'Miles Morales'},\n",
      "{value: '3', viewValue: 'Gwen Stacy'},\n"
     ]
    }
   ],
   "source": [
    "for items in clients:\n",
    "    print(f\"{{value: '{items['id']}', viewValue: '{items['name']+' '+items['last_name']}'}},\")"
   ]
  },
  {
   "cell_type": "code",
   "execution_count": 102,
   "metadata": {},
   "outputs": [
    {
     "data": {
      "text/html": [
       "<div>\n",
       "<style scoped>\n",
       "    .dataframe tbody tr th:only-of-type {\n",
       "        vertical-align: middle;\n",
       "    }\n",
       "\n",
       "    .dataframe tbody tr th {\n",
       "        vertical-align: top;\n",
       "    }\n",
       "\n",
       "    .dataframe thead th {\n",
       "        text-align: right;\n",
       "    }\n",
       "</style>\n",
       "<table border=\"1\" class=\"dataframe\">\n",
       "  <thead>\n",
       "    <tr style=\"text-align: right;\">\n",
       "      <th></th>\n",
       "      <th>id</th>\n",
       "      <th>name</th>\n",
       "      <th>last_name</th>\n",
       "      <th>email</th>\n",
       "    </tr>\n",
       "  </thead>\n",
       "  <tbody>\n",
       "    <tr>\n",
       "      <th>0</th>\n",
       "      <td>1</td>\n",
       "      <td>Peter</td>\n",
       "      <td>Parker</td>\n",
       "      <td>awayfromhome@hero.com</td>\n",
       "    </tr>\n",
       "    <tr>\n",
       "      <th>1</th>\n",
       "      <td>2</td>\n",
       "      <td>Miles</td>\n",
       "      <td>Morales</td>\n",
       "      <td>anotherspider@hero.com</td>\n",
       "    </tr>\n",
       "    <tr>\n",
       "      <th>2</th>\n",
       "      <td>3</td>\n",
       "      <td>Gwen</td>\n",
       "      <td>Stacy</td>\n",
       "      <td>bestone@hero.com</td>\n",
       "    </tr>\n",
       "  </tbody>\n",
       "</table>\n",
       "</div>"
      ],
      "text/plain": [
       "   id   name last_name                   email\n",
       "0   1  Peter    Parker   awayfromhome@hero.com\n",
       "1   2  Miles   Morales  anotherspider@hero.com\n",
       "2   3   Gwen     Stacy        bestone@hero.com"
      ]
     },
     "metadata": {},
     "output_type": "display_data"
    },
    {
     "data": {
      "text/html": [
       "<div>\n",
       "<style scoped>\n",
       "    .dataframe tbody tr th:only-of-type {\n",
       "        vertical-align: middle;\n",
       "    }\n",
       "\n",
       "    .dataframe tbody tr th {\n",
       "        vertical-align: top;\n",
       "    }\n",
       "\n",
       "    .dataframe thead th {\n",
       "        text-align: right;\n",
       "    }\n",
       "</style>\n",
       "<table border=\"1\" class=\"dataframe\">\n",
       "  <thead>\n",
       "    <tr style=\"text-align: right;\">\n",
       "      <th></th>\n",
       "      <th>id</th>\n",
       "      <th>client_id</th>\n",
       "      <th>account_number</th>\n",
       "      <th>balance</th>\n",
       "    </tr>\n",
       "  </thead>\n",
       "  <tbody>\n",
       "    <tr>\n",
       "      <th>0</th>\n",
       "      <td>1</td>\n",
       "      <td>1</td>\n",
       "      <td>123</td>\n",
       "      <td>1000</td>\n",
       "    </tr>\n",
       "    <tr>\n",
       "      <th>1</th>\n",
       "      <td>2</td>\n",
       "      <td>2</td>\n",
       "      <td>456</td>\n",
       "      <td>15000</td>\n",
       "    </tr>\n",
       "    <tr>\n",
       "      <th>2</th>\n",
       "      <td>3</td>\n",
       "      <td>2</td>\n",
       "      <td>258</td>\n",
       "      <td>150000</td>\n",
       "    </tr>\n",
       "    <tr>\n",
       "      <th>3</th>\n",
       "      <td>4</td>\n",
       "      <td>3</td>\n",
       "      <td>789</td>\n",
       "      <td>3000</td>\n",
       "    </tr>\n",
       "    <tr>\n",
       "      <th>4</th>\n",
       "      <td>5</td>\n",
       "      <td>3</td>\n",
       "      <td>741</td>\n",
       "      <td>10</td>\n",
       "    </tr>\n",
       "    <tr>\n",
       "      <th>5</th>\n",
       "      <td>6</td>\n",
       "      <td>3</td>\n",
       "      <td>748</td>\n",
       "      <td>-10</td>\n",
       "    </tr>\n",
       "  </tbody>\n",
       "</table>\n",
       "</div>"
      ],
      "text/plain": [
       "   id  client_id  account_number  balance\n",
       "0   1          1             123     1000\n",
       "1   2          2             456    15000\n",
       "2   3          2             258   150000\n",
       "3   4          3             789     3000\n",
       "4   5          3             741       10\n",
       "5   6          3             748      -10"
      ]
     },
     "execution_count": 102,
     "metadata": {},
     "output_type": "execute_result"
    }
   ],
   "source": [
    "df_client = pd.DataFrame(clients)\n",
    "display(df_client)\n",
    "df_account = pd.DataFrame(accounts)\n",
    "df_account"
   ]
  },
  {
   "cell_type": "code",
   "execution_count": 124,
   "metadata": {},
   "outputs": [],
   "source": [
    "clients_id_list = [1, 2, 3]\n",
    "accounts_id_list = [1, 2, 3, 4, 5, 6]\n",
    "transaction_type = ['debit', 'credit']\n",
    "transaction_status = ['open', 'processing', 'finalized']\n",
    "\n",
    "transactions_input = []\n",
    "for _ in range(3):\n",
    "    rd_client = random.choice(clients_id_list)\n",
    "    mask = df_account['client_id'] == rd_client\n",
    "    rd_account = random.choice(df_account[mask]['id'].tolist())\n",
    "    random_values = np.random.gumbel(60, 25, 1000)\n",
    "    for idx, value in enumerate(random_values):\n",
    "        rd_type = random.choice(transaction_type)\n",
    "        status = \"open\"\n",
    "        rd_date = f\"'{random.randint(2023, 2025)}/{random.randint(1, 12):02}/{random.randint(1, 28):02}'\"\n",
    "        \n",
    "        result_dict = { \"id\": idx, \"account_id\": rd_account,\n",
    "                      \"type\": rd_type, \"status\": status,\n",
    "                      \"amount\": round(value, 2), \"created_at\": rd_date}\n",
    "        \n",
    "        transactions_input.append(result_dict)\n",
    "        \n",
    "        "
   ]
  },
  {
   "cell_type": "code",
   "execution_count": 125,
   "metadata": {},
   "outputs": [
    {
     "name": "stdout",
     "output_type": "stream",
     "text": [
      ", { id: 0, account_id: 3, type: 'credit', status: 'open', amount: 45.29, created_at: convertToString(new Date('2023/10/03'), locale) }\n",
      ", { id: 1, account_id: 3, type: 'credit', status: 'open', amount: 92.14, created_at: convertToString(new Date('2023/06/10'), locale) }\n",
      ", { id: 2, account_id: 3, type: 'credit', status: 'open', amount: 28.74, created_at: convertToString(new Date('2024/04/12'), locale) }\n",
      ", { id: 3, account_id: 3, type: 'credit', status: 'open', amount: 41.63, created_at: convertToString(new Date('2023/01/16'), locale) }\n",
      ", { id: 4, account_id: 3, type: 'credit', status: 'open', amount: 48.76, created_at: convertToString(new Date('2023/04/16'), locale) }\n",
      ", { id: 5, account_id: 3, type: 'credit', status: 'open', amount: 54.02, created_at: convertToString(new Date('2024/01/12'), locale) }\n",
      ", { id: 6, account_id: 3, type: 'credit', status: 'open', amount: 35.96, created_at: convertToString(new Date('2023/02/05'), locale) }\n",
      ", { id: 7, account_id: 3, type: 'debit', status: 'open', amount: 122.54, created_at: convertToString(new Date('2024/02/20'), locale) }\n",
      ", { id: 8, account_id: 3, type: 'debit', status: 'open', amount: 124.54, created_at: convertToString(new Date('2025/05/04'), locale) }\n",
      ", { id: 9, account_id: 3, type: 'debit', status: 'open', amount: 84.91, created_at: convertToString(new Date('2025/11/05'), locale) }\n",
      ", { id: 10, account_id: 3, type: 'debit', status: 'open', amount: 49.95, created_at: convertToString(new Date('2024/04/13'), locale) }\n",
      ", { id: 11, account_id: 3, type: 'debit', status: 'open', amount: 59.81, created_at: convertToString(new Date('2023/01/21'), locale) }\n",
      ", { id: 12, account_id: 3, type: 'credit', status: 'open', amount: 124.73, created_at: convertToString(new Date('2025/12/14'), locale) }\n",
      ", { id: 13, account_id: 3, type: 'credit', status: 'open', amount: 51.2, created_at: convertToString(new Date('2023/06/05'), locale) }\n",
      ", { id: 14, account_id: 3, type: 'debit', status: 'open', amount: 101.14, created_at: convertToString(new Date('2025/06/28'), locale) }\n",
      ", { id: 15, account_id: 3, type: 'credit', status: 'open', amount: 41.34, created_at: convertToString(new Date('2023/02/19'), locale) }\n",
      ", { id: 16, account_id: 3, type: 'credit', status: 'open', amount: 32.04, created_at: convertToString(new Date('2023/12/09'), locale) }\n",
      ", { id: 17, account_id: 3, type: 'debit', status: 'open', amount: 89.68, created_at: convertToString(new Date('2023/09/20'), locale) }\n",
      ", { id: 18, account_id: 3, type: 'debit', status: 'open', amount: 84.47, created_at: convertToString(new Date('2023/03/28'), locale) }\n",
      ", { id: 19, account_id: 3, type: 'debit', status: 'open', amount: 91.28, created_at: convertToString(new Date('2025/10/10'), locale) }\n"
     ]
    }
   ],
   "source": [
    "for ii in transactions_input[:20]:\n",
    "    print(f\", {{ {template_transaction.safe_substitute(ii)} }}\")"
   ]
  },
  {
   "cell_type": "code",
   "execution_count": 56,
   "metadata": {},
   "outputs": [
    {
     "data": {
      "text/plain": [
       "1000"
      ]
     },
     "execution_count": 56,
     "metadata": {},
     "output_type": "execute_result"
    }
   ],
   "source": []
  }
 ],
 "metadata": {
  "kernelspec": {
   "display_name": "Python 3",
   "language": "python",
   "name": "python3"
  },
  "language_info": {
   "codemirror_mode": {
    "name": "ipython",
    "version": 3
   },
   "file_extension": ".py",
   "mimetype": "text/x-python",
   "name": "python",
   "nbconvert_exporter": "python",
   "pygments_lexer": "ipython3",
   "version": "3.10.12"
  }
 },
 "nbformat": 4,
 "nbformat_minor": 2
}
